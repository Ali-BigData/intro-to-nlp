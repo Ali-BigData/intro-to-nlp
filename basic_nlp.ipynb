{
 "cells": [
  {
   "cell_type": "markdown",
   "metadata": {},
   "source": [
    "# Basic NLP concepts\n",
    "\n",
    "## Data\n",
    "* Data sources\n",
    "* Raw text\n",
    "* Annotation\n",
    "\n",
    "## Cleaining, language identification"
   ]
  },
  {
   "cell_type": "markdown",
   "metadata": {},
   "source": [
    "## Segmentation\n",
    "\n",
    "* **Segmentation:** Divide bigger units into smaller ones\n",
    "* In many cases text needs to be segmented into sentences and/or words\n",
    "* Why?\n",
    "\n",
    "\n",
    "* **Tokenization / word segmentation:** Segment text into individual tokens\n",
    "* **Sentence splitting / sentence segmentation:** Segment text into individual sentences"
   ]
  },
  {
   "cell_type": "markdown",
   "metadata": {},
   "source": [
    "Extremely bad customer service\n",
    "\n",
    "Do not go to this salon, especially if you have to get your hair straightened. They did a very bad job with my hair and were extremely rude when I went back to ask them why it didn't work for my hair. Rude, insensitive, discourteous people!!!!!\n",
    "\n",
    "(text source: https://github.com/UniversalDependencies/UD_English-EWT)\n",
    "\n",
    "**Tokenized:**\n",
    "Extremely bad customer service\n",
    "\n",
    "Do not go to this salon , especially if you have to get your hair straightened . They did a very bad job with my hair and were extremely rude when I went back to ask them why it did n't work for my hair . Rude , insensitive , discourteous people !!!!!\n",
    "\n",
    "**Sentence splitted:**\n",
    "Extremely bad customer service\n",
    "\n",
    "Do not go to this salon, especially if you have to get your hair straightened.\n",
    "\n",
    "They did a very bad job with my hair and were extremely rude when I went back to ask them why it didn't work for my hair.\n",
    "\n",
    "Rude, insensitive, discourteous people!!!!!"
   ]
  },
  {
   "cell_type": "markdown",
   "metadata": {},
   "source": [
    "### Tokenization: HOW?\n",
    "\n",
    "* **Naive method 1:** Split from whitespace characters"
   ]
  },
  {
   "cell_type": "code",
   "execution_count": 2,
   "metadata": {},
   "outputs": [
    {
     "name": "stdout",
     "output_type": "stream",
     "text": [
      "Extremely\n",
      "bad\n",
      "customer\n",
      "service\n",
      "Do\n",
      "not\n",
      "go\n",
      "to\n",
      "this\n",
      "salon,\n",
      "especially\n",
      "if\n",
      "you\n",
      "have\n",
      "to\n",
      "get\n",
      "your\n",
      "hair\n",
      "straightened.\n",
      "They\n",
      "did\n",
      "a\n",
      "very\n",
      "bad\n",
      "job\n",
      "with\n",
      "my\n",
      "hair\n",
      "and\n",
      "were\n",
      "extremely\n",
      "rude\n",
      "when\n",
      "I\n",
      "went\n",
      "back\n",
      "to\n",
      "ask\n",
      "them\n",
      "why\n",
      "it\n",
      "didn't\n",
      "work\n",
      "for\n",
      "my\n",
      "hair.\n",
      "Rude,\n",
      "insensitive,\n",
      "discourteous\n",
      "people!!!!!\n"
     ]
    }
   ],
   "source": [
    "text=\"\"\"Extremely bad customer service\n",
    "\n",
    "Do not go to this salon, especially if you have to get your hair straightened. \\\n",
    "They did a very bad job with my hair and were extremely rude when I went back to \\\n",
    "ask them why it didn't work for my hair. Rude, insensitive, discourteous people!!!!!\"\"\"\n",
    "\n",
    "tokenized_text = text.split() # split(): Return a list of the words in the string, using whitespace as the delimiter string.\n",
    "\n",
    "for w in tokenized_text:\n",
    "    print(w)"
   ]
  },
  {
   "cell_type": "markdown",
   "metadata": {},
   "source": [
    "* **Naive method 2:** Split from whitespace characters, take into account punctuation\n",
    "* Regular expressions!\n",
    "    * Define search patters\n",
    "    * Find this kind of pattern from raw text, or find-and-replace\n",
    "* Find all punctuation characters, and replace with whitespace+punctiation character\n",
    "    * *book.* --> *book .*\n",
    "    * *people!!!!!* --> *people !!!!!*\n",
    "    * How about clitics in English? [don't, can't, cannot?]\n",
    "    * 2-(14-hydroxypentadecyl)-4-methyl-5-oxo-2,5-dihydrofuran-3-carboxylic acid ???\n",
    "    * Usually it's not that important how exactly you do it, just be consistent!\n",
    "        * consistent = always do it the same way\n",
    "        * If you download two datasets which are already tokenized, the tokenization may differ and you need to be aware of it!"
   ]
  },
  {
   "cell_type": "code",
   "execution_count": 11,
   "metadata": {},
   "outputs": [
    {
     "name": "stdout",
     "output_type": "stream",
     "text": [
      "Extremely bad customer service\n",
      "\n",
      "Do not go to this salon , especially if you have to get your hair straightened . They did a very bad job with my hair and were extremely rude when I went back to ask them why it did n't work for my hair . Rude , insensitive , discourteous people !!!!!\n"
     ]
    }
   ],
   "source": [
    "import re\n",
    "\n",
    "tokenized = re.sub(r'([.,!?]+)', r' \\1', text) # replace . , ! ? with whitespace+character(s), '+' means one or more\n",
    "tokenized = re.sub(r\"(n't)\", r\" \\1\", tokenized) # clitics\n",
    "\n",
    "print(tokenized) # Note: this is still string, apply simple whitespace splitting to get a list of tokens"
   ]
  },
  {
   "cell_type": "markdown",
   "metadata": {},
   "source": [
    "* **Naive method 2** works quite well for English, Finnish, Swedish...\n",
    "    * Approx. 97-99% correct on clean text (TODO: source?)\n",
    "    * Many existing tokenizers are just (a bunch of) regular expressions\n",
    "    * Can be hundreds of different rules...\n",
    "\n",
    "\n",
    "* How about other languages, does it work for all?\n",
    "\n",
    ".\n",
    "\n",
    ".\n",
    "\n",
    ".\n",
    "\n",
    ".\n",
    "\n",
    ".\n",
    "\n",
    ".\n",
    "\n",
    ".\n",
    "\n",
    ".\n",
    "\n",
    "**Nope! Why not?**\n",
    "\n",
    ".\n",
    "\n",
    ".\n",
    "\n",
    ".\n",
    "\n",
    ".\n",
    "\n",
    ".\n",
    "\n",
    ".\n",
    "\n",
    ".\n",
    "\n",
    "* All languages do not use whitespace or punctuation, or the meaning of those may be different.\n",
    "* Chinese, Thai, Vietnamese"
   ]
  },
  {
   "attachments": {
    "tokenization.png": {
     "image/png": "[encoded data removed]"
    }
   },
   "cell_type": "markdown",
   "metadata": {},
   "source": [
    "![tokenization.png](attachment:tokenization.png)"
   ]
  },
  {
   "cell_type": "markdown",
   "metadata": {},
   "source": [
    "* **Naive algorithm:**\n",
    "    1) Build a vocabulary for the language\n",
    "    2) Start from the beginning of the text, and find the longest matching word\n",
    "    3) Split the matching word and continue from the next remaining character\n",
    "* *the table down there* --> *thetabledownthere* --> *theta bled own there*\n",
    "    * Does not work well for English, but in Chinese words are usually 2-4 characters long, so the simple algorithm works better\n",
    "    \n",
    "**Tokenization: State-of-the-art**\n",
    "* State-of-the-art = The best existing method currently known\n",
    "* Machine learning\n",
    "    * Collect raw (untokenized) text for the language you are interested in, and manually tokenize it.\n",
    "        * (TODO: how much?)\n",
    "    * Train a classifier\n",
    "    * The trained classifier can be used to tokenize new text"
   ]
  },
  {
   "cell_type": "markdown",
   "metadata": {},
   "source": [
    "#### Sentence splitting: HOW?\n",
    "\n",
    "* **Naive method 1:** What kind of punctuation characters end the sentence?\n",
    "    * yes: . ! ?\n",
    "    * no: ,\n",
    "* Define a list of sentence-final punctuation, and always split on those."
   ]
  },
  {
   "cell_type": "markdown",
   "metadata": {},
   "source": [
    "#### Word frequencies\n",
    "\n",
    "* Stop words\n",
    "* tf-idf\n",
    "\n",
    "#### Stemming and lemmatization"
   ]
  }
 ],
 "metadata": {
  "kernelspec": {
   "display_name": "Python 3",
   "language": "python",
   "name": "python3"
  },
  "language_info": {
   "codemirror_mode": {
    "name": "ipython",
    "version": 3
   },
   "file_extension": ".py",
   "mimetype": "text/x-python",
   "name": "python",
   "nbconvert_exporter": "python",
   "pygments_lexer": "ipython3",
   "version": "3.6.9"
  }
 },
 "nbformat": 4,
 "nbformat_minor": 2
}
