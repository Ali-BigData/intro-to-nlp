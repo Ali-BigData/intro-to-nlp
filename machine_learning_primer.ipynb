{
 "cells": [
  {
   "cell_type": "markdown",
   "metadata": {},
   "source": [
    "# Machine Learning Primer\n",
    "\n",
    "* Machine learning is a group of algorithms which adapt their behavior based on observations\n",
    "    * Learns to perform a specific task without using explicit instructions\n",
    "* Objective is to perform better on the given task after observing examples\n",
    "\n",
    "### Example task: Given a fruit, recognize whether it's an apple or a banana.\n",
    "\n",
    "* **Rule-based approach:** Write instructions how to solve the task, i.e. how to recognize apples and bananas. \n",
    "    * If it's red, it must be an apple\n",
    "    * If it's thin and quite long, it's a banana\n",
    "    * If its shape is roundish, it's an apple\n",
    "    * If it has brown texture on top of yellow background, it's a banana\n",
    "    * Otherwise I'm not sure, but lets guess it's an apple\n",
    "    \n",
    "* **Machine learning approach:** Give a bag of apples and bananas each labeled with the correct class (apple/banana), and let the machine to figure out the usual patterns how apples and bananas looks like and how to differentiate those two\n",
    "\n",
    "### Motivation\n",
    "\n",
    "* Many real-life scenarios are too complicated to define as a set rules\n",
    "* Natural langauge has certain predefined structures and rules, but also exceptions, and exceptions of exception\n",
    "    * No formal requirements to follow the rules\n",
    "    * Not all rules are known\n",
    "* Almost all modern NLP methods are based on machine learning\n",
    "    * Neural networks is the hot topic currently\n",
    "\n",
    "### Machine Learning in a nutshell (classification)\n",
    "\n",
    "* Dataset: Examples describing the task you are trying to solve\n",
    "    * The dataset must reflect the task, and represent the real-life situation well\n",
    "    * Can you predict tomorrow's weather, if you know today's menu?\n",
    "    * If you want to model daily weather conditions, you need to include measurements throughout the year, not only summer time\n",
    "\n",
    "* Find a hypothesis (mathematical function) that explains patterns in your data as well as possible\n",
    "    * Start from random guessing\n",
    "    * Let the machine to see one example (without the ground truth label)\n",
    "    * Ask it to predict (or guess) the correct label\n",
    "    * Punish/reward (update the hypothesis)\n",
    "    * Continue until satisfied\n",
    "    \n",
    "* Now we have the function (trained model), which is able to guess the ground truth label for a given example\n",
    "    \n",
    "    \n",
    "### Supervised / Unsupervised Learning\n",
    "\n",
    "* **Supervised:** Each example has a predefined label, which is known (the ground truth)\n",
    "* The set of possible labels is fixed\n",
    "* Classification, Regression\n",
    "\n",
    "* **Unsupervised:** Bunch of examples representing the situation, but the ground truth is not known\n",
    "* The set of groups/labels not known\n",
    "* Clustering\n",
    "    * Divide the data into X groups, but we do not know beforehand what kind of groups there should be\n",
    "\n",
    "## Classification\n",
    "\n",
    "* Divide the given examples to pre-defined classes\n",
    "* E.g. *Divide a bag of fruits into apples and bananas*\n",
    "* Supervised learning: Each example in the training data includes a pre-defined label\n",
    "    * Unsupervised learning: A set of possible labels are not known, try find common patters\n",
    "    * Clustering: \n",
    "\n",
    "banana &#127820;\n",
    "apple &#127822;"
   ]
  },
  {
   "cell_type": "code",
   "execution_count": 3,
   "metadata": {},
   "outputs": [
    {
     "name": "stdout",
     "output_type": "stream",
     "text": [
      "🍌\n",
      "🍎\n"
     ]
    }
   ],
   "source": [
    "print('\\U0001F34C')\n",
    "print('\\U0001F34E')"
   ]
  }
 ],
 "metadata": {
  "kernelspec": {
   "display_name": "Python 3",
   "language": "python",
   "name": "python3"
  },
  "language_info": {
   "codemirror_mode": {
    "name": "ipython",
    "version": 3
   },
   "file_extension": ".py",
   "mimetype": "text/x-python",
   "name": "python",
   "nbconvert_exporter": "python",
   "pygments_lexer": "ipython3",
   "version": "3.6.9"
  }
 },
 "nbformat": 4,
 "nbformat_minor": 2
}
