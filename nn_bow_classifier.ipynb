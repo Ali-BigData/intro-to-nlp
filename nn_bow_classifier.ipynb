{
  "nbformat": 4,
  "nbformat_minor": 0,
  "metadata": {
    "kernelspec": {
      "display_name": "Python 3",
      "language": "python",
      "name": "python3"
    },
    "language_info": {
      "codemirror_mode": {
        "name": "ipython",
        "version": 3
      },
      "file_extension": ".py",
      "mimetype": "text/x-python",
      "name": "python",
      "nbconvert_exporter": "python",
      "pygments_lexer": "ipython3",
      "version": "3.6.9"
    },
    "colab": {
      "name": "nn_bow_classifier.ipynb",
      "provenance": [],
      "include_colab_link": true
    },
    "accelerator": "GPU"
  },
  "cells": [
    {
      "cell_type": "markdown",
      "metadata": {
        "id": "view-in-github",
        "colab_type": "text"
      },
      "source": [
        "<a href=\"https://colab.research.google.com/github/TurkuNLP/intro-to-nlp/blob/master/nn_bow_classifier.ipynb\" target=\"_parent\"><img src=\"https://colab.research.google.com/assets/colab-badge.svg\" alt=\"Open In Colab\"/></a>"
      ]
    },
    {
      "cell_type": "markdown",
      "metadata": {
        "id": "cJgSQnTr5hKs"
      },
      "source": [
        "# Bag-of-words document classification\n",
        "\n",
        "* BoW is the simplest way to do classification: Feature vector goes in, decision falls out.\n",
        "\n",
        "* Feature vector: a vector with as many dimensions as we have unique features, and a non-zero value set for every feature present in our example\n",
        "* Binary features: 1/0\n",
        "\n",
        "In the following we work with the IMDB data, have a look on [how to read it in](read_imdb.ipynb). Here we just read the ready data in.\n",
        "\n",
        "# IMDB data\n",
        "\n",
        "* Familiar data\n",
        "* Input vectorized as before\n",
        "* But now we will also have to turn class labels into integers and back explicitly so we can use Keras\n"
      ]
    },
    {
      "cell_type": "code",
      "metadata": {
        "id": "fxbv7By-57T4",
        "outputId": "7052f4ec-f741-471f-ea2d-a0e448dfe071",
        "colab": {
          "base_uri": "https://localhost:8080/"
        }
      },
      "source": [
        "!wget -nc https://github.com/TurkuNLP/intro-to-nlp/raw/master/Data/imdb_train.json"
      ],
      "execution_count": 3,
      "outputs": [
        {
          "output_type": "stream",
          "text": [
            "--2021-01-08 07:34:14--  https://github.com/TurkuNLP/intro-to-nlp/raw/master/Data/imdb_train.json\n",
            "Resolving github.com (github.com)... 140.82.113.3\n",
            "Connecting to github.com (github.com)|140.82.113.3|:443... connected.\n",
            "HTTP request sent, awaiting response... 302 Found\n",
            "Location: https://raw.githubusercontent.com/TurkuNLP/intro-to-nlp/master/Data/imdb_train.json [following]\n",
            "--2021-01-08 07:34:15--  https://raw.githubusercontent.com/TurkuNLP/intro-to-nlp/master/Data/imdb_train.json\n",
            "Resolving raw.githubusercontent.com (raw.githubusercontent.com)... 151.101.0.133, 151.101.64.133, 151.101.128.133, ...\n",
            "Connecting to raw.githubusercontent.com (raw.githubusercontent.com)|151.101.0.133|:443... connected.\n",
            "HTTP request sent, awaiting response... 200 OK\n",
            "Length: 33944099 (32M) [text/plain]\n",
            "Saving to: ‘imdb_train.json’\n",
            "\n",
            "imdb_train.json     100%[===================>]  32.37M  58.3MB/s    in 0.6s    \n",
            "\n",
            "2021-01-08 07:34:15 (58.3 MB/s) - ‘imdb_train.json’ saved [33944099/33944099]\n",
            "\n"
          ],
          "name": "stdout"
        }
      ]
    },
    {
      "cell_type": "code",
      "metadata": {
        "id": "pXG8Ca0e5hKz"
      },
      "source": [
        "import json\n",
        "import random\n",
        "with open(\"imdb_train.json\") as f:\n",
        "    data=json.load(f)\n",
        "random.shuffle(data) #play it safe!\n",
        "\n",
        "texts=[one_example[\"text\"] for one_example in data]\n",
        "labels=[one_example[\"class\"] for one_example in data]\n"
      ],
      "execution_count": 3,
      "outputs": []
    },
    {
      "cell_type": "code",
      "metadata": {
        "id": "amrLFpve5hK0",
        "outputId": "b6eb444e-170a-4f0b-893c-4feb3d424542",
        "colab": {
          "base_uri": "https://localhost:8080/"
        }
      },
      "source": [
        "from sklearn.feature_extraction.text import CountVectorizer\n",
        "from sklearn.model_selection import train_test_split\n",
        "\n",
        "train_texts, dev_texts, train_labels, dev_labels=train_test_split(texts,labels,test_size=0.2)\n",
        "vectorizer=CountVectorizer(max_features=100000,binary=True,ngram_range=(1,1))\n",
        "feature_matrix_train=vectorizer.fit_transform(train_texts)\n",
        "feature_matrix_dev=vectorizer.transform(dev_texts)\n",
        "\n",
        "print(\"shape=\",feature_matrix_train.shape)\n"
      ],
      "execution_count": 4,
      "outputs": [
        {
          "output_type": "stream",
          "text": [
            "shape= (20000, 68509)\n"
          ],
          "name": "stdout"
        }
      ]
    },
    {
      "cell_type": "code",
      "metadata": {
        "id": "yTsbLacCAAAo"
      },
      "source": [
        "import tensorflow as tf\n",
        "import numpy as np\n",
        "\n",
        "def convert_sparse_matrix_to_sparse_tensor(X):\n",
        "    coo = X.tocoo()\n",
        "    indices = np.mat([coo.row, coo.col]).transpose()\n",
        "    return tf.sparse.reorder(tf.SparseTensor(indices, coo.data, coo.shape))\n",
        "\n",
        "feature_matrix_train_tf=convert_sparse_matrix_to_sparse_tensor(feature_matrix_train)\n",
        "feature_matrix_dev_tf=convert_sparse_matrix_to_sparse_tensor(feature_matrix_dev)"
      ],
      "execution_count": 25,
      "outputs": []
    },
    {
      "cell_type": "markdown",
      "metadata": {
        "id": "kIluAddR5hK6"
      },
      "source": [
        "Now we have the feature matrix done! Next thing we need is the class labels:"
      ]
    },
    {
      "cell_type": "code",
      "metadata": {
        "id": "EE7xaPp65hK7",
        "outputId": "c1de90fa-23be-44bb-aeff-9c2884c2a6d8",
        "colab": {
          "base_uri": "https://localhost:8080/"
        }
      },
      "source": [
        "from sklearn.preprocessing import LabelEncoder\n",
        "\n",
        "label_encoder=LabelEncoder() #Turns class labels into integers\n",
        "class_numbers_train=label_encoder.fit_transform(train_labels)\n",
        "class_numbers_dev=label_encoder.transform(dev_labels)\n",
        "\n",
        "print(\"class_numbers shape=\",class_numbers_train.shape)\n",
        "print(\"class labels\",label_encoder.classes_) #this will let us translate back from indices to labels"
      ],
      "execution_count": 20,
      "outputs": [
        {
          "output_type": "stream",
          "text": [
            "class_numbers shape= (20000,)\n",
            "class labels ['neg' 'pos']\n"
          ],
          "name": "stdout"
        }
      ]
    },
    {
      "cell_type": "markdown",
      "metadata": {
        "id": "I9Bo2pEq5hK8"
      },
      "source": [
        "* The data is ready :)\n",
        "\n",
        "We need to build the network now\n",
        "* Input\n",
        "* Hidden Dense layer with some kind of non-linearity, and a suitable number of nodes\n",
        "* Output Dense layer with the softmax activation (normalizes output to distribution) and as many nodes as there are classes"
      ]
    },
    {
      "cell_type": "code",
      "metadata": {
        "id": "zLzFHV2d5hK8"
      },
      "source": [
        "from keras.models import Model\n",
        "from keras.layers import Input, Dense\n",
        "\n",
        "example_count,feature_count=feature_matrix_train.shape #how many examples and features we've got?\n",
        "example_count2=class_numbers_train.shape[0]\n",
        "assert example_count==example_count2 #sanity check\n",
        "class_count=len(label_encoder.classes_) #How many classes we've got?\n",
        "\n",
        "#Build the network:\n",
        "inp=Input(shape=(feature_count,)) #Input layer\n",
        "hidden=Dense(200,activation=\"tanh\")(inp) #Hidden layer\n",
        "outp=Dense(class_count,activation=\"softmax\")(hidden) #Output layer\n",
        "model=Model(inputs=[inp], outputs=[outp])"
      ],
      "execution_count": 26,
      "outputs": []
    },
    {
      "cell_type": "markdown",
      "metadata": {
        "id": "FyIYRRvE5hK9"
      },
      "source": [
        "...it's **this** simple...!\n",
        "\n",
        "Once the model is constructed it needs to be compiled, for that we need to know:\n",
        "* which optimizer we want to use (sgd is fine to begin with)\n",
        "* what is the loss (sparse_categorial_crossentropy for multiclass of the kind we have is the right choice)\n",
        "* which metrics to measure, accuracy is an okay choice"
      ]
    },
    {
      "cell_type": "code",
      "metadata": {
        "id": "e2uv181F5hK-"
      },
      "source": [
        "model.compile(optimizer=\"sgd\",loss=\"sparse_categorical_crossentropy\",metrics=['accuracy'])"
      ],
      "execution_count": 27,
      "outputs": []
    },
    {
      "cell_type": "markdown",
      "metadata": {
        "id": "pl2XExJk5hK-"
      },
      "source": [
        "A compiled model can be fitted on data:"
      ]
    },
    {
      "cell_type": "code",
      "metadata": {
        "id": "RzZbwpRG5hK-",
        "outputId": "bb078f5f-98b3-4931-df15-9b91011633e8",
        "colab": {
          "base_uri": "https://localhost:8080/"
        }
      },
      "source": [
        "\n",
        "\n",
        "hist=model.fit(feature_matrix_train_tf,class_numbers_train,\\\n",
        "               validation_data=(feature_matrix_dev_tf,class_numbers_dev),\\\n",
        "               batch_size=100,verbose=1,epochs=10)"
      ],
      "execution_count": 28,
      "outputs": [
        {
          "output_type": "stream",
          "text": [
            "Epoch 1/10\n",
            "200/200 [==============================] - 1s 4ms/step - loss: 0.6267 - accuracy: 0.7065 - val_loss: 0.4941 - val_accuracy: 0.8202\n",
            "Epoch 2/10\n",
            "200/200 [==============================] - 1s 3ms/step - loss: 0.4732 - accuracy: 0.8220 - val_loss: 0.4173 - val_accuracy: 0.8362\n",
            "Epoch 3/10\n",
            "200/200 [==============================] - 1s 3ms/step - loss: 0.4003 - accuracy: 0.8511 - val_loss: 0.3771 - val_accuracy: 0.8514\n",
            "Epoch 4/10\n",
            "200/200 [==============================] - 1s 3ms/step - loss: 0.3592 - accuracy: 0.8632 - val_loss: 0.3516 - val_accuracy: 0.8608\n",
            "Epoch 5/10\n",
            "200/200 [==============================] - 1s 3ms/step - loss: 0.3316 - accuracy: 0.8709 - val_loss: 0.3344 - val_accuracy: 0.8660\n",
            "Epoch 6/10\n",
            "200/200 [==============================] - 1s 3ms/step - loss: 0.3176 - accuracy: 0.8777 - val_loss: 0.3219 - val_accuracy: 0.8704\n",
            "Epoch 7/10\n",
            "200/200 [==============================] - 1s 3ms/step - loss: 0.2935 - accuracy: 0.8882 - val_loss: 0.3122 - val_accuracy: 0.8718\n",
            "Epoch 8/10\n",
            "200/200 [==============================] - 1s 3ms/step - loss: 0.2826 - accuracy: 0.8910 - val_loss: 0.3053 - val_accuracy: 0.8744\n",
            "Epoch 9/10\n",
            "200/200 [==============================] - 1s 3ms/step - loss: 0.2712 - accuracy: 0.8947 - val_loss: 0.2991 - val_accuracy: 0.8780\n",
            "Epoch 10/10\n",
            "200/200 [==============================] - 1s 3ms/step - loss: 0.2656 - accuracy: 0.8988 - val_loss: 0.2942 - val_accuracy: 0.8810\n"
          ],
          "name": "stdout"
        }
      ]
    },
    {
      "cell_type": "code",
      "metadata": {
        "id": "-PkjpcL58e5X"
      },
      "source": [
        ""
      ],
      "execution_count": null,
      "outputs": []
    },
    {
      "cell_type": "code",
      "metadata": {
        "id": "Cbz1dBZI5hK_",
        "outputId": "11885c6f-3807-447a-946d-55d741bfa7af",
        "colab": {
          "base_uri": "https://localhost:8080/"
        }
      },
      "source": [
        "print(hist.history[\"val_accuracy\"])"
      ],
      "execution_count": 30,
      "outputs": [
        {
          "output_type": "stream",
          "text": [
            "[0.8202000260353088, 0.8361999988555908, 0.8514000177383423, 0.86080002784729, 0.8659999966621399, 0.8704000115394592, 0.8718000054359436, 0.8744000196456909, 0.878000020980835, 0.8809999823570251]\n"
          ],
          "name": "stdout"
        }
      ]
    },
    {
      "cell_type": "markdown",
      "metadata": {
        "id": "r5ln4rnH5hLA"
      },
      "source": [
        "* We ran for 10 epochs of training\n",
        "* Made it to a decent accuracy on the validation data\n",
        "\n",
        "* But we do not have the model saved, so let's fix that and get the whole thing done\n",
        "* What constitutes a model (ie what we need to run the model on new data)\n",
        "  - The feature dictionary in the vectorizer\n",
        "  - The list of classes in their correct order\n",
        "  - The structure of the network\n",
        "  - The weights the network learned\n",
        "\n",
        "* Do all these things, and run again. This time we also increase the number of epochs, see what happens."
      ]
    },
    {
      "cell_type": "code",
      "metadata": {
        "id": "QtLKUWW45hLA",
        "outputId": "0e165f18-7380-45b5-b145-bd710e14df4e",
        "colab": {
          "base_uri": "https://localhost:8080/"
        }
      },
      "source": [
        "from keras.models import Model\n",
        "from keras.layers import Input, Dense\n",
        "from keras.callbacks import ModelCheckpoint, EarlyStopping\n",
        "from keras import optimizers\n",
        "import os\n",
        "import pickle\n",
        "\n",
        "def save_model(file_name,model,label_encoder,vectorizer):\n",
        "    \"\"\"Saves model structure and vocabularies\"\"\"\n",
        "    model_json = model.to_json()\n",
        "    with open(file_name+\".model.json\", \"w\") as f:\n",
        "        print(model_json,file=f)\n",
        "    with open(file_name+\".encoders.pickle\",\"wb\") as f:\n",
        "        pickle.dump((label_encoder,vectorizer),f)\n",
        "    #with open(file_name+\".vocabularies.json\",\"w\") as f:\n",
        "    #    classes=list(label_encoder.classes_)\n",
        "    #    vocab=dict(((str(w),int(idx)) for w,idx in vectorizer.vocabulary_.items())) #must turn numpy objects to python ones\n",
        "    #    json.dump((classes,vocab),f,indent=2)\n",
        "        \n",
        "example_count,feature_count=feature_matrix_train_tf.shape #how many examples and features we've got?\n",
        "example_count2=class_numbers_train.shape[0]\n",
        "assert example_count==example_count2 #sanity check\n",
        "class_count=len(label_encoder.classes_) #How many classes we've got?\n",
        "\n",
        "#Build the network:\n",
        "inp=Input(shape=(feature_count,)) #Input layer\n",
        "hidden=Dense(200,activation=\"tanh\")(inp) #Hidden layer\n",
        "outp=Dense(class_count,activation=\"softmax\")(hidden) #Output layer\n",
        "model=Model(inputs=[inp], outputs=[outp])\n",
        "\n",
        "# Let's try a different optimizer!\n",
        "opt=optimizers.Adam()\n",
        "model.compile(optimizer=opt,loss=\"sparse_categorical_crossentropy\",metrics=['accuracy'])\n",
        "\n",
        "# Save model and vocabularies, can be done before training\n",
        "os.makedirs(\"models\",exist_ok=True)\n",
        "save_model(\"models/imdb_bow\",model,label_encoder,vectorizer)\n",
        "# Callback function to save weights during training, if validation loss goes down\n",
        "save_cb=ModelCheckpoint(filepath=\"models/imdb_bow.weights.h5\", monitor='val_loss', verbose=1, save_best_only=True, mode='auto')\n",
        "stop_cb=EarlyStopping(patience=2,verbose=1,restore_best_weights=True)\n",
        "hist=model.fit(feature_matrix_train_tf,class_numbers_train,\\\n",
        "               validation_data=(feature_matrix_dev_tf,class_numbers_dev),\\\n",
        "               batch_size=100,verbose=1,epochs=20,\\\n",
        "               callbacks=[save_cb,stop_cb])\n"
      ],
      "execution_count": 33,
      "outputs": [
        {
          "output_type": "stream",
          "text": [
            "Epoch 1/20\n",
            "200/200 [==============================] - 1s 4ms/step - loss: 0.3974 - accuracy: 0.8202 - val_loss: 0.2723 - val_accuracy: 0.8896\n",
            "\n",
            "Epoch 00001: val_loss improved from inf to 0.27227, saving model to models/imdb_bow.weights.h5\n",
            "Epoch 2/20\n",
            "200/200 [==============================] - 1s 4ms/step - loss: 0.0916 - accuracy: 0.9698 - val_loss: 0.3604 - val_accuracy: 0.8782\n",
            "\n",
            "Epoch 00002: val_loss did not improve from 0.27227\n",
            "Epoch 3/20\n",
            "200/200 [==============================] - 1s 4ms/step - loss: 0.0340 - accuracy: 0.9914 - val_loss: 0.4890 - val_accuracy: 0.8798\n",
            "\n",
            "Epoch 00003: val_loss did not improve from 0.27227\n",
            "Restoring model weights from the end of the best epoch.\n",
            "Epoch 00003: early stopping\n"
          ],
          "name": "stdout"
        }
      ]
    },
    {
      "cell_type": "code",
      "metadata": {
        "id": "GBKFuz2z5hLC",
        "outputId": "1915c2b6-06f1-478c-a1a7-f2d9991caf18",
        "colab": {
          "base_uri": "https://localhost:8080/"
        }
      },
      "source": [
        "import numpy\n",
        "from sklearn.metrics import classification_report, confusion_matrix\n",
        "\n",
        "#Validation data used during training:\n",
        "val_instances,val_labels=feature_matrix_dev_tf,class_numbers_dev\n",
        "\n",
        "print(\"Network output=\",model.predict(val_instances))\n",
        "predictions=numpy.argmax(model.predict(val_instances),axis=1)\n",
        "print(\"Maximum class for each example=\",predictions)\n",
        "gold=val_labels\n",
        "conf_matrix=confusion_matrix(list(gold),list(predictions))\n",
        "print(\"Confusion matrix=\\n\",conf_matrix)\n",
        "\n",
        "gold_labels=label_encoder.inverse_transform(list(gold))\n",
        "predicted_labels=label_encoder.inverse_transform(list(predictions))\n",
        "#print(\"Gold labels=\",gold_labels)\n",
        "#print(\"Predicted labels=\",predicted_labels)\n",
        "print(classification_report(gold_labels,predicted_labels))\n"
      ],
      "execution_count": 36,
      "outputs": [
        {
          "output_type": "stream",
          "text": [
            "Network output= [[0.8699621  0.13003789]\n",
            " [0.00108381 0.99891627]\n",
            " [0.16914144 0.8308585 ]\n",
            " ...\n",
            " [0.6138316  0.38616842]\n",
            " [0.9706871  0.02931287]\n",
            " [0.9768312  0.02316885]]\n",
            "Maximum class for each example= [0 1 1 ... 0 0 0]\n",
            "Confusion matrix=\n",
            " [[2117  370]\n",
            " [ 182 2331]]\n",
            "              precision    recall  f1-score   support\n",
            "\n",
            "         neg       0.92      0.85      0.88      2487\n",
            "         pos       0.86      0.93      0.89      2513\n",
            "\n",
            "    accuracy                           0.89      5000\n",
            "   macro avg       0.89      0.89      0.89      5000\n",
            "weighted avg       0.89      0.89      0.89      5000\n",
            "\n"
          ],
          "name": "stdout"
        }
      ]
    },
    {
      "cell_type": "markdown",
      "metadata": {
        "id": "U691K9Gi5hLD"
      },
      "source": [
        "# Learning progress\n",
        "\n",
        "* The history object we get lets us inspect the accuracy during training\n",
        "* Remarks:\n",
        "  - Accuracy on training data keeps going up\n",
        "  - Accuracy on validation (test) data flattens out after a but over 10 epochs, we are learning very little past that point\n",
        "  - What we see is the network keeps overfitting on the training data to the end"
      ]
    },
    {
      "cell_type": "code",
      "metadata": {
        "id": "rOZMQI8_5hLE",
        "outputId": "ec2dd5c3-40df-456e-87bb-2ecb50fa10d9",
        "colab": {
          "base_uri": "https://localhost:8080/",
          "height": 269
        }
      },
      "source": [
        "%matplotlib inline\n",
        "import matplotlib.pyplot as plt\n",
        "\n",
        "plt.ylim(0.55,1.0)\n",
        "plt.plot(hist.history[\"val_accuracy\"],label=\"Validation set accuracy\")\n",
        "plt.plot(hist.history[\"accuracy\"],label=\"Training set accuracy\")\n",
        "plt.legend()\n",
        "plt.show()"
      ],
      "execution_count": 37,
      "outputs": [
        {
          "output_type": "display_data",
          "data": {
            "image/png": "[encoded data removed]",
            "text/plain": [
              "<Figure size 432x288 with 1 Axes>"
            ]
          },
          "metadata": {
            "tags": [],
            "needs_background": "light"
          }
        }
      ]
    },
    {
      "cell_type": "markdown",
      "metadata": {
        "id": "XUH5yli05hLF"
      },
      "source": [
        "# Summary\n",
        "\n",
        "* We put together a program to train a neural network classifier for sentiment detector\n",
        "* We learned the necessary code/techniques to save models, and feed the training with data in just the right format\n",
        "* We observed the training across epochs\n",
        "* We saw how the classifier can be applied to various text classification problems\n",
        "* The IMDB sentiment classifier ended up at nearly 90% accuracy, the state of the art is about 95%, we got surprisingly far in few lines of code\n"
      ]
    }
  ]
}