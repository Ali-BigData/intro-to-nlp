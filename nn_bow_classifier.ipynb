{
 "cells": [
  {
   "cell_type": "markdown",
   "metadata": {},
   "source": [
    "# Bag-of-words document classification\n",
    "\n",
    "* BoW is the simplest way to do classification: Feature vector goes in, decision falls out.\n",
    "\n",
    "* Feature vector: a vector with as many dimensions as we have unique features, and a non-zero value set for every feature present in our example\n",
    "* Binary features: 1/0\n",
    "\n",
    "In the following we work with the IMDB data, have a look on [how to read it in](read_imdb.ipynb). Here we just read the ready data in.\n",
    "\n",
    "# IMDB data\n",
    "\n",
    "* Familiar data\n",
    "* Input vectorized as before\n",
    "* But now we will also have to turn class labels into integers and back explicitly so we can use Keras\n"
   ]
  },
  {
   "cell_type": "code",
   "execution_count": 1,
   "metadata": {},
   "outputs": [],
   "source": [
    "import json\n",
    "import random\n",
    "with open(\"intro-to-nlp/imdb_train.json\") as f:\n",
    "    data=json.load(f)\n",
    "random.shuffle(data) #play it safe!\n",
    "\n",
    "texts=[one_example[\"text\"] for one_example in data]\n",
    "labels=[one_example[\"class\"] for one_example in data]\n"
   ]
  },
  {
   "cell_type": "code",
   "execution_count": 2,
   "metadata": {},
   "outputs": [
    {
     "name": "stdout",
     "output_type": "stream",
     "text": [
      "shape= (25000, 74849)\n"
     ]
    }
   ],
   "source": [
    "from sklearn.feature_extraction.text import CountVectorizer\n",
    "\n",
    "vectorizer=CountVectorizer(max_features=100000,binary=True,ngram_range=(1,1))\n",
    "feature_matrix=vectorizer.fit_transform(texts)\n",
    "print(\"shape=\",feature_matrix.shape)\n"
   ]
  },
  {
   "cell_type": "markdown",
   "metadata": {},
   "source": [
    "Now we have the feature matrix done! Next thing we need is the class labels:"
   ]
  },
  {
   "cell_type": "code",
   "execution_count": 3,
   "metadata": {},
   "outputs": [
    {
     "name": "stdout",
     "output_type": "stream",
     "text": [
      "class_numbers shape= (25000,)\n",
      "class labels ['neg' 'pos']\n"
     ]
    }
   ],
   "source": [
    "from sklearn.preprocessing import LabelEncoder, OneHotEncoder\n",
    "\n",
    "label_encoder=LabelEncoder() #Turns class labels into integers\n",
    "class_numbers=label_encoder.fit_transform(labels)\n",
    "print(\"class_numbers shape=\",class_numbers.shape)\n",
    "print(\"class labels\",label_encoder.classes_) #this will let us translate back from indices to labels"
   ]
  },
  {
   "cell_type": "markdown",
   "metadata": {},
   "source": [
    "* The data is ready :)\n",
    "\n",
    "We need to build the network now\n",
    "* Input\n",
    "* Hidden Dense layer with some kind of non-linearity, and a suitable number of nodes\n",
    "* Output Dense layer with the softmax activation (normalizes output to distribution) and as many nodes as there are classes"
   ]
  },
  {
   "cell_type": "code",
   "execution_count": 5,
   "metadata": {},
   "outputs": [],
   "source": [
    "from keras.models import Model\n",
    "from keras.layers import Input, Dense\n",
    "\n",
    "example_count,feature_count=feature_matrix.shape #how many examples and features we've got?\n",
    "example_count2=class_numbers.shape[0]\n",
    "assert example_count==example_count2 #sanity check\n",
    "class_count=len(label_encoder.classes_) #How many classes we've got?\n",
    "\n",
    "#Build the network:\n",
    "inp=Input(shape=(feature_count,)) #Input layer\n",
    "hidden=Dense(200,activation=\"tanh\")(inp) #Hidden layer\n",
    "outp=Dense(class_count,activation=\"softmax\")(hidden) #Output layer\n",
    "model=Model(inputs=[inp], outputs=[outp])"
   ]
  },
  {
   "cell_type": "markdown",
   "metadata": {},
   "source": [
    "...it's **this** simple...!\n",
    "\n",
    "Once the model is constructed it needs to be compiled, for that we need to know:\n",
    "* which optimizer we want to use (sgd is fine to begin with)\n",
    "* what is the loss (sparse_categorial_crossentropy for multiclass of the kind we have is the right choice)\n",
    "* which metrics to measure, accuracy is an okay choice"
   ]
  },
  {
   "cell_type": "code",
   "execution_count": 6,
   "metadata": {},
   "outputs": [],
   "source": [
    "model.compile(optimizer=\"sgd\",loss=\"sparse_categorical_crossentropy\",metrics=['accuracy'])"
   ]
  },
  {
   "cell_type": "markdown",
   "metadata": {},
   "source": [
    "A compiled model can be fitted on data:"
   ]
  },
  {
   "cell_type": "code",
   "execution_count": 7,
   "metadata": {},
   "outputs": [
    {
     "name": "stdout",
     "output_type": "stream",
     "text": [
      "WARNING:tensorflow:From /home/ginter/venv-teachin/lib/python3.6/site-packages/keras/backend/tensorflow_backend.py:422: The name tf.global_variables is deprecated. Please use tf.compat.v1.global_variables instead.\n",
      "\n",
      "Train on 22500 samples, validate on 2500 samples\n",
      "Epoch 1/10\n",
      "22500/22500 [==============================] - 34s 1ms/step - loss: 0.5665 - accuracy: 0.7726 - val_loss: 0.4829 - val_accuracy: 0.8252\n",
      "Epoch 2/10\n",
      "22500/22500 [==============================] - 33s 1ms/step - loss: 0.4366 - accuracy: 0.8379 - val_loss: 0.4070 - val_accuracy: 0.8444\n",
      "Epoch 3/10\n",
      "22500/22500 [==============================] - 34s 1ms/step - loss: 0.3786 - accuracy: 0.8549 - val_loss: 0.3678 - val_accuracy: 0.8548\n",
      "Epoch 4/10\n",
      "22500/22500 [==============================] - 33s 1ms/step - loss: 0.3441 - accuracy: 0.8665 - val_loss: 0.3447 - val_accuracy: 0.8640\n",
      "Epoch 5/10\n",
      "22500/22500 [==============================] - 34s 1ms/step - loss: 0.3202 - accuracy: 0.8746 - val_loss: 0.3275 - val_accuracy: 0.8668\n",
      "Epoch 6/10\n",
      "22500/22500 [==============================] - 35s 2ms/step - loss: 0.3014 - accuracy: 0.8820 - val_loss: 0.3158 - val_accuracy: 0.8720\n",
      "Epoch 7/10\n",
      "22500/22500 [==============================] - 35s 2ms/step - loss: 0.2865 - accuracy: 0.8889 - val_loss: 0.3074 - val_accuracy: 0.8728\n",
      "Epoch 8/10\n",
      "22500/22500 [==============================] - 34s 2ms/step - loss: 0.2738 - accuracy: 0.8948 - val_loss: 0.3003 - val_accuracy: 0.8752\n",
      "Epoch 9/10\n",
      "22500/22500 [==============================] - 37s 2ms/step - loss: 0.2625 - accuracy: 0.8996 - val_loss: 0.2944 - val_accuracy: 0.8792\n",
      "Epoch 10/10\n",
      "22500/22500 [==============================] - 35s 2ms/step - loss: 0.2529 - accuracy: 0.9040 - val_loss: 0.2910 - val_accuracy: 0.8800\n"
     ]
    }
   ],
   "source": [
    "hist=model.fit(feature_matrix,class_numbers,batch_size=100,verbose=1,epochs=10,validation_split=0.1)"
   ]
  },
  {
   "cell_type": "code",
   "execution_count": null,
   "metadata": {},
   "outputs": [],
   "source": [
    "print(hist.history[\"val_acc\"])"
   ]
  },
  {
   "cell_type": "markdown",
   "metadata": {},
   "source": [
    "* We ran for 10 epochs of training\n",
    "* Made it to a decent accuracy on the validation data\n",
    "\n",
    "* But we do not have the model saved, so let's fix that and get the whole thing done\n",
    "* What constitutes a model (ie what we need to run the model on new data)\n",
    "  - The feature dictionary in the vectorizer\n",
    "  - The list of classes in their correct order\n",
    "  - The structure of the network\n",
    "  - The weights the network learned\n",
    "\n",
    "* Do all these things, and run again. This time we also increase the number of epochs, see what happens."
   ]
  },
  {
   "cell_type": "code",
   "execution_count": 12,
   "metadata": {},
   "outputs": [
    {
     "name": "stdout",
     "output_type": "stream",
     "text": [
      "Train on 22500 samples, validate on 2500 samples\n",
      "Epoch 1/20\n",
      "22500/22500 [==============================] - 60s 3ms/step - loss: 0.3195 - accuracy: 0.8659 - val_loss: 0.2778 - val_accuracy: 0.8824\n",
      "\n",
      "Epoch 00001: val_loss improved from inf to 0.27781, saving model to models/imdb_bow.weights.h5\n",
      "Epoch 2/20\n",
      "22500/22500 [==============================] - 64s 3ms/step - loss: 0.0999 - accuracy: 0.9649 - val_loss: 0.3159 - val_accuracy: 0.8820\n",
      "\n",
      "Epoch 00002: val_loss did not improve from 0.27781\n",
      "Epoch 3/20\n",
      "22500/22500 [==============================] - 64s 3ms/step - loss: 0.0383 - accuracy: 0.9876 - val_loss: 0.4562 - val_accuracy: 0.8824\n",
      "\n",
      "Epoch 00003: val_loss did not improve from 0.27781\n",
      "Restoring model weights from the end of the best epoch\n",
      "Epoch 00003: early stopping\n"
     ]
    }
   ],
   "source": [
    "from keras.models import Model\n",
    "from keras.layers import Input, Dense\n",
    "from keras.callbacks import ModelCheckpoint, EarlyStopping\n",
    "from keras import optimizers\n",
    "import os\n",
    "import pickle\n",
    "\n",
    "def save_model(file_name,model,label_encoder,vectorizer):\n",
    "    \"\"\"Saves model structure and vocabularies\"\"\"\n",
    "    model_json = model.to_json()\n",
    "    with open(file_name+\".model.json\", \"w\") as f:\n",
    "        print(model_json,file=f)\n",
    "    with open(file_name+\".encoders.pickle\",\"wb\") as f:\n",
    "        pickle.dump((label_encoder,vectorizer),f)\n",
    "    #with open(file_name+\".vocabularies.json\",\"w\") as f:\n",
    "    #    classes=list(label_encoder.classes_)\n",
    "    #    vocab=dict(((str(w),int(idx)) for w,idx in vectorizer.vocabulary_.items())) #must turn numpy objects to python ones\n",
    "    #    json.dump((classes,vocab),f,indent=2)\n",
    "        \n",
    "example_count,feature_count=feature_matrix.shape #how many examples and features we've got?\n",
    "example_count2=class_numbers.shape[0]\n",
    "assert example_count==example_count2 #sanity check\n",
    "class_count=len(label_encoder.classes_) #How many classes we've got?\n",
    "\n",
    "#Build the network:\n",
    "inp=Input(shape=(feature_count,)) #Input layer\n",
    "hidden=Dense(200,activation=\"tanh\")(inp) #Hidden layer\n",
    "outp=Dense(class_count,activation=\"softmax\")(hidden) #Output layer\n",
    "model=Model(inputs=[inp], outputs=[outp])\n",
    "\n",
    "# Let's try a different optimizer!\n",
    "opt=optimizers.Adam()\n",
    "model.compile(optimizer=opt,loss=\"sparse_categorical_crossentropy\",metrics=['accuracy'])\n",
    "\n",
    "# Save model and vocabularies, can be done before training\n",
    "os.makedirs(\"models\",exist_ok=True)\n",
    "save_model(\"models/imdb_bow\",model,label_encoder,vectorizer)\n",
    "# Callback function to save weights during training, if validation loss goes down\n",
    "save_cb=ModelCheckpoint(filepath=\"models/imdb_bow.weights.h5\", monitor='val_loss', verbose=1, save_best_only=True, mode='auto')\n",
    "stop_cb=EarlyStopping(patience=2,verbose=1,restore_best_weights=True)\n",
    "hist=model.fit(feature_matrix,class_numbers,batch_size=100,verbose=1,epochs=20,validation_split=0.1,callbacks=[save_cb,stop_cb])\n"
   ]
  },
  {
   "cell_type": "code",
   "execution_count": 13,
   "metadata": {},
   "outputs": [
    {
     "name": "stdout",
     "output_type": "stream",
     "text": [
      "Network output= [[0.37979558 0.6202045 ]\n",
      " [0.6799087  0.3200913 ]\n",
      " [0.5277653  0.4722348 ]\n",
      " ...\n",
      " [0.00333667 0.9966633 ]\n",
      " [0.36800465 0.6319953 ]\n",
      " [0.01387937 0.98612064]]\n",
      "Maximum class for each example= [1 0 0 ... 1 1 1]\n",
      "Confusion matrix=\n",
      " [[1138   94]\n",
      " [ 200 1068]]\n",
      "              precision    recall  f1-score   support\n",
      "\n",
      "         neg       0.85      0.92      0.89      1232\n",
      "         pos       0.92      0.84      0.88      1268\n",
      "\n",
      "    accuracy                           0.88      2500\n",
      "   macro avg       0.88      0.88      0.88      2500\n",
      "weighted avg       0.89      0.88      0.88      2500\n",
      "\n"
     ]
    },
    {
     "name": "stderr",
     "output_type": "stream",
     "text": [
      "/home/ginter/venv-teachin/lib/python3.6/site-packages/sklearn/preprocessing/_label.py:289: DataConversionWarning: A column-vector y was passed when a 1d array was expected. Please change the shape of y to (n_samples, ), for example using ravel().\n",
      "  y = column_or_1d(y, warn=True)\n"
     ]
    }
   ],
   "source": [
    "import numpy\n",
    "from sklearn.metrics import classification_report, confusion_matrix\n",
    "\n",
    "#Validation data used during training:\n",
    "val_instances,val_labels,_=hist.validation_data\n",
    "\n",
    "print(\"Network output=\",model.predict(val_instances))\n",
    "predictions=numpy.argmax(model.predict(val_instances),axis=1)\n",
    "print(\"Maximum class for each example=\",predictions)\n",
    "gold=val_labels\n",
    "conf_matrix=confusion_matrix(list(gold),list(predictions))\n",
    "print(\"Confusion matrix=\\n\",conf_matrix)\n",
    "### FIXED VERSION (thanks for reporting the bug during the lecture!)\n",
    "### \n",
    "gold_labels=label_encoder.inverse_transform(list(gold))\n",
    "predicted_labels=label_encoder.inverse_transform(list(predictions))\n",
    "#print(\"Gold labels=\",gold_labels)\n",
    "#print(\"Predicted labels=\",predicted_labels)\n",
    "print(classification_report(gold_labels,predicted_labels))\n"
   ]
  },
  {
   "cell_type": "markdown",
   "metadata": {},
   "source": [
    "# Learning progress\n",
    "\n",
    "* The history object we get lets us inspect the accuracy during training\n",
    "* Remarks:\n",
    "  - Accuracy on training data keeps going up\n",
    "  - Accuracy on validation (test) data flattens out after a but over 10 epochs, we are learning very little past that point\n",
    "  - What we see is the network keeps overfitting on the training data to the end"
   ]
  },
  {
   "cell_type": "code",
   "execution_count": 14,
   "metadata": {},
   "outputs": [
    {
     "data": {
      "image/png": "[encoded data removed]",
      "text/plain": [
       "<Figure size 432x288 with 1 Axes>"
      ]
     },
     "metadata": {
      "needs_background": "light"
     },
     "output_type": "display_data"
    }
   ],
   "source": [
    "%matplotlib inline\n",
    "import matplotlib.pyplot as plt\n",
    "\n",
    "plt.ylim(0.55,1.0)\n",
    "plt.plot(hist.history[\"val_accuracy\"],label=\"Validation set accuracy\")\n",
    "plt.plot(hist.history[\"accuracy\"],label=\"Training set accuracy\")\n",
    "plt.legend()\n",
    "plt.show()"
   ]
  },
  {
   "cell_type": "markdown",
   "metadata": {},
   "source": [
    "# Summary\n",
    "\n",
    "* We put together a program to train a neural network classifier for sentiment detector\n",
    "* We learned the necessary code/techniques to save models, and feed the training with data in just the right format\n",
    "* We observed the training across epochs\n",
    "* We saw how the classifier can be applied to various text classification problems\n",
    "* The IMDB sentiment classifier ended up at nearly 90% accuracy, the state of the art is about 95%, we got surprisingly far in few lines of code\n"
   ]
  }
 ],
 "metadata": {
  "kernelspec": {
   "display_name": "Python 3",
   "language": "python",
   "name": "python3"
  },
  "language_info": {
   "codemirror_mode": {
    "name": "ipython",
    "version": 3
   },
   "file_extension": ".py",
   "mimetype": "text/x-python",
   "name": "python",
   "nbconvert_exporter": "python",
   "pygments_lexer": "ipython3",
   "version": "3.6.9"
  }
 },
 "nbformat": 4,
 "nbformat_minor": 4
}
