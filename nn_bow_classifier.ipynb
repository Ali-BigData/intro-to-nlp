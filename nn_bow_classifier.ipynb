{
  "nbformat": 4,
  "nbformat_minor": 0,
  "metadata": {
    "kernelspec": {
      "display_name": "Python 3",
      "language": "python",
      "name": "python3"
    },
    "language_info": {
      "codemirror_mode": {
        "name": "ipython",
        "version": 3
      },
      "file_extension": ".py",
      "mimetype": "text/x-python",
      "name": "python",
      "nbconvert_exporter": "python",
      "pygments_lexer": "ipython3",
      "version": "3.6.9"
    },
    "colab": {
      "name": "nn_bow_classifier.ipynb",
      "provenance": [],
      "toc_visible": true,
      "include_colab_link": true
    },
    "accelerator": "GPU"
  },
  "cells": [
    {
      "cell_type": "markdown",
      "metadata": {
        "id": "view-in-github",
        "colab_type": "text"
      },
      "source": [
        "<a href=\"https://colab.research.google.com/github/TurkuNLP/intro-to-nlp/blob/master/nn_bow_classifier.ipynb\" target=\"_parent\"><img src=\"https://colab.research.google.com/assets/colab-badge.svg\" alt=\"Open In Colab\"/></a>"
      ]
    },
    {
      "cell_type": "markdown",
      "metadata": {
        "id": "cJgSQnTr5hKs"
      },
      "source": [
        "# Bag-of-words document classification\n",
        "\n",
        "* BoW is the simplest way to do classification: Feature vector goes in, decision falls out.\n",
        "\n",
        "* Feature vector: a vector with as many dimensions as we have unique features, and a non-zero value set for every feature present in our example\n",
        "* Binary features: 1/0\n",
        "\n",
        "In the following we work with the IMDB data, have a look on [how to read it in](read_imdb.ipynb). Here we just read the ready data in.\n",
        "\n",
        "# IMDB data\n",
        "\n",
        "* Familiar data\n",
        "* Input vectorized as before\n",
        "* But now we will also have to turn class labels into integers and back explicitly so we can use Keras\n"
      ]
    },
    {
      "cell_type": "code",
      "metadata": {
        "colab": {
          "base_uri": "https://localhost:8080/"
        },
        "id": "fxbv7By-57T4",
        "outputId": "358e5bd8-daa4-437e-c7ce-5a9d3bcaa1d7"
      },
      "source": [
        "!wget -nc https://github.com/TurkuNLP/intro-to-nlp/raw/master/Data/imdb_train.json"
      ],
      "execution_count": 1,
      "outputs": [
        {
          "output_type": "stream",
          "text": [
            "--2021-01-13 10:38:40--  https://github.com/TurkuNLP/intro-to-nlp/raw/master/Data/imdb_train.json\n",
            "Resolving github.com (github.com)... 140.82.112.4\n",
            "Connecting to github.com (github.com)|140.82.112.4|:443... connected.\n",
            "HTTP request sent, awaiting response... 302 Found\n",
            "Location: https://raw.githubusercontent.com/TurkuNLP/intro-to-nlp/master/Data/imdb_train.json [following]\n",
            "--2021-01-13 10:38:40--  https://raw.githubusercontent.com/TurkuNLP/intro-to-nlp/master/Data/imdb_train.json\n",
            "Resolving raw.githubusercontent.com (raw.githubusercontent.com)... 151.101.0.133, 151.101.64.133, 151.101.128.133, ...\n",
            "Connecting to raw.githubusercontent.com (raw.githubusercontent.com)|151.101.0.133|:443... connected.\n",
            "HTTP request sent, awaiting response... 200 OK\n",
            "Length: 33944099 (32M) [text/plain]\n",
            "Saving to: ‘imdb_train.json’\n",
            "\n",
            "imdb_train.json     100%[===================>]  32.37M  --.-KB/s    in 0.1s    \n",
            "\n",
            "2021-01-13 10:38:41 (270 MB/s) - ‘imdb_train.json’ saved [33944099/33944099]\n",
            "\n"
          ],
          "name": "stdout"
        }
      ]
    },
    {
      "cell_type": "code",
      "metadata": {
        "id": "pXG8Ca0e5hKz"
      },
      "source": [
        "import json\n",
        "import random\n",
        "with open(\"imdb_train.json\") as f:\n",
        "    data=json.load(f)\n",
        "random.shuffle(data) #play it safe!\n",
        "\n",
        "texts=[one_example[\"text\"] for one_example in data]\n",
        "labels=[one_example[\"class\"] for one_example in data]\n"
      ],
      "execution_count": 2,
      "outputs": []
    },
    {
      "cell_type": "code",
      "metadata": {
        "colab": {
          "base_uri": "https://localhost:8080/"
        },
        "id": "amrLFpve5hK0",
        "outputId": "c681532a-3560-4d48-9463-e090c06bb381"
      },
      "source": [
        "from sklearn.feature_extraction.text import CountVectorizer\n",
        "from sklearn.model_selection import train_test_split\n",
        "\n",
        "train_texts, dev_texts, train_labels, dev_labels=train_test_split(texts,labels,test_size=0.2)\n",
        "vectorizer=CountVectorizer(max_features=100000,binary=True,ngram_range=(1,1))\n",
        "feature_matrix_train=vectorizer.fit_transform(train_texts)\n",
        "feature_matrix_dev=vectorizer.transform(dev_texts)\n",
        "\n",
        "print(\"shape=\",feature_matrix_train.shape)\n"
      ],
      "execution_count": 3,
      "outputs": [
        {
          "output_type": "stream",
          "text": [
            "shape= (20000, 68351)\n"
          ],
          "name": "stdout"
        }
      ]
    },
    {
      "cell_type": "code",
      "metadata": {
        "id": "yTsbLacCAAAo"
      },
      "source": [
        "import tensorflow as tf\n",
        "import numpy as np\n",
        "\n",
        "def convert_sparse_matrix_to_sparse_tensor(X):\n",
        "    coo = X.tocoo()\n",
        "    indices = np.mat([coo.row, coo.col]).transpose()\n",
        "    return tf.sparse.reorder(tf.SparseTensor(indices, coo.data, coo.shape))\n",
        "\n",
        "feature_matrix_train_tf=convert_sparse_matrix_to_sparse_tensor(feature_matrix_train)\n",
        "feature_matrix_dev_tf=convert_sparse_matrix_to_sparse_tensor(feature_matrix_dev)"
      ],
      "execution_count": 4,
      "outputs": []
    },
    {
      "cell_type": "markdown",
      "metadata": {
        "id": "kIluAddR5hK6"
      },
      "source": [
        "Now we have the feature matrix done! Next thing we need is the class labels:"
      ]
    },
    {
      "cell_type": "code",
      "metadata": {
        "colab": {
          "base_uri": "https://localhost:8080/"
        },
        "id": "EE7xaPp65hK7",
        "outputId": "8aae3f7c-ab9c-4320-919c-df70d3d2f06c"
      },
      "source": [
        "from sklearn.preprocessing import LabelEncoder\n",
        "\n",
        "label_encoder=LabelEncoder() #Turns class labels into integers\n",
        "class_numbers_train=label_encoder.fit_transform(train_labels)\n",
        "class_numbers_dev=label_encoder.transform(dev_labels)\n",
        "\n",
        "print(\"class_numbers shape=\",class_numbers_train.shape)\n",
        "print(\"class labels\",label_encoder.classes_) #this will let us translate back from indices to labels"
      ],
      "execution_count": 5,
      "outputs": [
        {
          "output_type": "stream",
          "text": [
            "class_numbers shape= (20000,)\n",
            "class labels ['neg' 'pos']\n"
          ],
          "name": "stdout"
        }
      ]
    },
    {
      "cell_type": "markdown",
      "metadata": {
        "id": "I9Bo2pEq5hK8"
      },
      "source": [
        "* The data is ready :)\n",
        "\n",
        "We need to build the network now\n",
        "* Input\n",
        "* Hidden Dense layer with some kind of non-linearity, and a suitable number of nodes\n",
        "* Output Dense layer with the softmax activation (normalizes output to distribution) and as many nodes as there are classes"
      ]
    },
    {
      "cell_type": "code",
      "metadata": {
        "id": "zLzFHV2d5hK8"
      },
      "source": [
        "from keras.models import Model\n",
        "from keras.layers import Input, Dense\n",
        "\n",
        "example_count,feature_count=feature_matrix_train.shape #how many examples and features we've got?\n",
        "example_count2=class_numbers_train.shape[0]\n",
        "assert example_count==example_count2 #sanity check\n",
        "class_count=len(label_encoder.classes_) #How many classes we've got?\n",
        "\n",
        "#Build the network:\n",
        "inp=Input(shape=(feature_count,)) #Input layer\n",
        "hidden=Dense(200,activation=\"tanh\")(inp) #Hidden layer\n",
        "outp=Dense(class_count,activation=\"softmax\")(hidden) #Output layer\n",
        "model=Model(inputs=[inp], outputs=[outp])"
      ],
      "execution_count": 6,
      "outputs": []
    },
    {
      "cell_type": "markdown",
      "metadata": {
        "id": "FyIYRRvE5hK9"
      },
      "source": [
        "...it's **this** simple...!\n",
        "\n",
        "Once the model is constructed it needs to be compiled, for that we need to know:\n",
        "* which optimizer we want to use (sgd is fine to begin with)\n",
        "* what is the loss (sparse_categorial_crossentropy for multiclass of the kind we have is the right choice)\n",
        "* which metrics to measure, accuracy is an okay choice"
      ]
    },
    {
      "cell_type": "code",
      "metadata": {
        "id": "e2uv181F5hK-"
      },
      "source": [
        "model.compile(optimizer=\"sgd\",loss=\"sparse_categorical_crossentropy\",metrics=['accuracy'])"
      ],
      "execution_count": 7,
      "outputs": []
    },
    {
      "cell_type": "markdown",
      "metadata": {
        "id": "pl2XExJk5hK-"
      },
      "source": [
        "A compiled model can be fitted on data:"
      ]
    },
    {
      "cell_type": "code",
      "metadata": {
        "colab": {
          "base_uri": "https://localhost:8080/"
        },
        "id": "RzZbwpRG5hK-",
        "outputId": "f4a56a8e-f8aa-4948-a9dd-7305c1867bf4"
      },
      "source": [
        "\n",
        "\n",
        "hist=model.fit(feature_matrix_train_tf,class_numbers_train,\\\n",
        "               validation_data=(feature_matrix_dev_tf,class_numbers_dev),\\\n",
        "               batch_size=100,verbose=1,epochs=10)"
      ],
      "execution_count": 8,
      "outputs": [
        {
          "output_type": "stream",
          "text": [
            "Epoch 1/10\n",
            "200/200 [==============================] - 3s 6ms/step - loss: 0.6183 - accuracy: 0.7088 - val_loss: 0.4855 - val_accuracy: 0.8180\n",
            "Epoch 2/10\n",
            "200/200 [==============================] - 1s 4ms/step - loss: 0.4534 - accuracy: 0.8340 - val_loss: 0.4134 - val_accuracy: 0.8406\n",
            "Epoch 3/10\n",
            "200/200 [==============================] - 1s 4ms/step - loss: 0.3892 - accuracy: 0.8513 - val_loss: 0.3779 - val_accuracy: 0.8518\n",
            "Epoch 4/10\n",
            "200/200 [==============================] - 1s 4ms/step - loss: 0.3502 - accuracy: 0.8633 - val_loss: 0.3563 - val_accuracy: 0.8594\n",
            "Epoch 5/10\n",
            "200/200 [==============================] - 1s 4ms/step - loss: 0.3225 - accuracy: 0.8775 - val_loss: 0.3418 - val_accuracy: 0.8638\n",
            "Epoch 6/10\n",
            "200/200 [==============================] - 1s 4ms/step - loss: 0.3086 - accuracy: 0.8812 - val_loss: 0.3308 - val_accuracy: 0.8690\n",
            "Epoch 7/10\n",
            "200/200 [==============================] - 1s 4ms/step - loss: 0.2905 - accuracy: 0.8869 - val_loss: 0.3213 - val_accuracy: 0.8730\n",
            "Epoch 8/10\n",
            "200/200 [==============================] - 1s 4ms/step - loss: 0.2766 - accuracy: 0.8925 - val_loss: 0.3155 - val_accuracy: 0.8772\n",
            "Epoch 9/10\n",
            "200/200 [==============================] - 1s 4ms/step - loss: 0.2623 - accuracy: 0.9023 - val_loss: 0.3121 - val_accuracy: 0.8762\n",
            "Epoch 10/10\n",
            "200/200 [==============================] - 1s 4ms/step - loss: 0.2554 - accuracy: 0.9017 - val_loss: 0.3062 - val_accuracy: 0.8780\n"
          ],
          "name": "stdout"
        }
      ]
    },
    {
      "cell_type": "code",
      "metadata": {
        "id": "-PkjpcL58e5X"
      },
      "source": [
        ""
      ],
      "execution_count": null,
      "outputs": []
    },
    {
      "cell_type": "code",
      "metadata": {
        "colab": {
          "base_uri": "https://localhost:8080/"
        },
        "id": "Cbz1dBZI5hK_",
        "outputId": "56a74204-8572-4763-e07b-bbd46c8cec90"
      },
      "source": [
        "print(hist.history[\"val_accuracy\"])"
      ],
      "execution_count": 9,
      "outputs": [
        {
          "output_type": "stream",
          "text": [
            "[0.8180000185966492, 0.8406000137329102, 0.8518000245094299, 0.8593999743461609, 0.8637999892234802, 0.8690000176429749, 0.8730000257492065, 0.8772000074386597, 0.8762000203132629, 0.878000020980835]\n"
          ],
          "name": "stdout"
        }
      ]
    },
    {
      "cell_type": "markdown",
      "metadata": {
        "id": "r5ln4rnH5hLA"
      },
      "source": [
        "* We ran for 10 epochs of training\n",
        "* Made it to a decent accuracy on the validation data\n",
        "\n",
        "* But we do not have the model saved, so let's fix that and get the whole thing done\n",
        "* What constitutes a model (ie what we need to run the model on new data)\n",
        "  - The feature dictionary in the vectorizer\n",
        "  - The list of classes in their correct order\n",
        "  - The structure of the network\n",
        "  - The weights the network learned\n",
        "\n",
        "* Do all these things, and run again. This time we also increase the number of epochs, see what happens."
      ]
    },
    {
      "cell_type": "code",
      "metadata": {
        "colab": {
          "base_uri": "https://localhost:8080/"
        },
        "id": "QtLKUWW45hLA",
        "outputId": "d4d09d66-c0fc-49cd-d998-6bba184a898f"
      },
      "source": [
        "from keras.models import Model\n",
        "from keras.layers import Input, Dense\n",
        "from keras.callbacks import ModelCheckpoint, EarlyStopping\n",
        "from keras import optimizers\n",
        "import os\n",
        "import pickle\n",
        "\n",
        "def save_model(file_name,model,label_encoder,vectorizer):\n",
        "    \"\"\"Saves model structure and vocabularies\"\"\"\n",
        "    model_json = model.to_json()\n",
        "    with open(file_name+\".model.json\", \"w\") as f:\n",
        "        print(model_json,file=f)\n",
        "    with open(file_name+\".encoders.pickle\",\"wb\") as f:\n",
        "        pickle.dump((label_encoder,vectorizer),f)\n",
        "            \n",
        "example_count,feature_count=feature_matrix_train_tf.shape #how many examples and features we've got?\n",
        "example_count2=class_numbers_train.shape[0]\n",
        "assert example_count==example_count2 #sanity check\n",
        "class_count=len(label_encoder.classes_) #How many classes we've got?\n",
        "\n",
        "#Build the network:\n",
        "inp=Input(shape=(feature_count,)) #Input layer\n",
        "hidden=Dense(200,activation=\"tanh\")(inp) #Hidden layer\n",
        "outp=Dense(class_count,activation=\"softmax\")(hidden) #Output layer\n",
        "model=Model(inputs=[inp], outputs=[outp])\n",
        "\n",
        "# Let's try a different optimizer!\n",
        "opt=optimizers.Adam()\n",
        "model.compile(optimizer=opt,loss=\"sparse_categorical_crossentropy\",metrics=['accuracy'])\n",
        "\n",
        "# Save model and vocabularies, can be done before training\n",
        "os.makedirs(\"models\",exist_ok=True)\n",
        "save_model(\"models/imdb_bow\",model,label_encoder,vectorizer)\n",
        "# Callback function to save weights during training, if validation loss goes down\n",
        "save_cb=ModelCheckpoint(filepath=\"models/imdb_bow.weights.h5\", monitor='val_loss',\\\n",
        "                        verbose=1, save_best_only=True, mode='auto')\n",
        "stop_cb=EarlyStopping(patience=2,verbose=1,restore_best_weights=True)\n",
        "hist=model.fit(feature_matrix_train_tf,class_numbers_train,\\\n",
        "               validation_data=(feature_matrix_dev_tf,class_numbers_dev),\\\n",
        "               batch_size=100,verbose=1,epochs=20,\\\n",
        "               callbacks=[save_cb,stop_cb])\n"
      ],
      "execution_count": 10,
      "outputs": [
        {
          "output_type": "stream",
          "text": [
            "Epoch 1/20\n",
            "200/200 [==============================] - 1s 6ms/step - loss: 0.3956 - accuracy: 0.8175 - val_loss: 0.2754 - val_accuracy: 0.8924\n",
            "\n",
            "Epoch 00001: val_loss improved from inf to 0.27541, saving model to models/imdb_bow.weights.h5\n",
            "Epoch 2/20\n",
            "200/200 [==============================] - 1s 5ms/step - loss: 0.0836 - accuracy: 0.9745 - val_loss: 0.3892 - val_accuracy: 0.8768\n",
            "\n",
            "Epoch 00002: val_loss did not improve from 0.27541\n",
            "Epoch 3/20\n",
            "200/200 [==============================] - 1s 5ms/step - loss: 0.0300 - accuracy: 0.9915 - val_loss: 0.5764 - val_accuracy: 0.8694\n",
            "\n",
            "Epoch 00003: val_loss did not improve from 0.27541\n",
            "Restoring model weights from the end of the best epoch.\n",
            "Epoch 00003: early stopping\n"
          ],
          "name": "stdout"
        }
      ]
    },
    {
      "cell_type": "code",
      "metadata": {
        "colab": {
          "base_uri": "https://localhost:8080/"
        },
        "id": "GBKFuz2z5hLC",
        "outputId": "06fed6aa-01ab-4490-b80d-f9f0606c7244"
      },
      "source": [
        "import numpy\n",
        "from sklearn.metrics import classification_report, confusion_matrix\n",
        "\n",
        "#Validation data used during training:\n",
        "val_instances,val_labels=feature_matrix_dev_tf,class_numbers_dev\n",
        "\n",
        "print(\"Network output=\",model.predict(val_instances))\n",
        "predictions=numpy.argmax(model.predict(val_instances),axis=1)\n",
        "print(\"Maximum class for each example=\",predictions)\n",
        "gold=val_labels\n",
        "conf_matrix=confusion_matrix(list(gold),list(predictions))\n",
        "print(\"Confusion matrix=\\n\",conf_matrix)\n",
        "\n",
        "gold_labels=label_encoder.inverse_transform(list(gold))\n",
        "predicted_labels=label_encoder.inverse_transform(list(predictions))\n",
        "#print(\"Gold labels=\",gold_labels)\n",
        "#print(\"Predicted labels=\",predicted_labels)\n",
        "print(classification_report(gold_labels,predicted_labels))\n"
      ],
      "execution_count": 11,
      "outputs": [
        {
          "output_type": "stream",
          "text": [
            "Network output= [[1.38831441e-03 9.98611689e-01]\n",
            " [7.69110769e-03 9.92308855e-01]\n",
            " [4.05633152e-02 9.59436655e-01]\n",
            " ...\n",
            " [7.77789950e-02 9.22221005e-01]\n",
            " [5.65217575e-04 9.99434769e-01]\n",
            " [8.76782894e-01 1.23217165e-01]]\n",
            "Maximum class for each example= [1 1 1 ... 1 1 0]\n",
            "Confusion matrix=\n",
            " [[2229  276]\n",
            " [ 262 2233]]\n",
            "              precision    recall  f1-score   support\n",
            "\n",
            "         neg       0.89      0.89      0.89      2505\n",
            "         pos       0.89      0.89      0.89      2495\n",
            "\n",
            "    accuracy                           0.89      5000\n",
            "   macro avg       0.89      0.89      0.89      5000\n",
            "weighted avg       0.89      0.89      0.89      5000\n",
            "\n"
          ],
          "name": "stdout"
        }
      ]
    },
    {
      "cell_type": "markdown",
      "metadata": {
        "id": "U691K9Gi5hLD"
      },
      "source": [
        "# Learning progress\n",
        "\n",
        "* The history object we get lets us inspect the accuracy during training\n",
        "* Remarks:\n",
        "  - Accuracy on training data keeps going up\n",
        "  - Accuracy on validation (test) data flattens out after a but over 10 epochs, we are learning very little past that point\n",
        "  - What we see is the network keeps overfitting on the training data to the end"
      ]
    },
    {
      "cell_type": "code",
      "metadata": {
        "colab": {
          "base_uri": "https://localhost:8080/",
          "height": 269
        },
        "id": "rOZMQI8_5hLE",
        "outputId": "bfe49b6a-14a7-403b-c12e-ab3f0ad96395"
      },
      "source": [
        "%matplotlib inline\n",
        "import matplotlib.pyplot as plt\n",
        "\n",
        "plt.ylim(0.55,1.0)\n",
        "plt.plot(hist.history[\"val_accuracy\"],label=\"Validation set accuracy\")\n",
        "plt.plot(hist.history[\"accuracy\"],label=\"Training set accuracy\")\n",
        "plt.legend()\n",
        "plt.show()"
      ],
      "execution_count": 12,
      "outputs": [
        {
          "output_type": "display_data",
          "data": {
            "image/png": "[encoded data removed]",
            "text/plain": [
              "<Figure size 432x288 with 1 Axes>"
            ]
          },
          "metadata": {
            "tags": [],
            "needs_background": "light"
          }
        }
      ]
    },
    {
      "cell_type": "markdown",
      "metadata": {
        "id": "XUH5yli05hLF"
      },
      "source": [
        "# Summary\n",
        "\n",
        "* We put together a program to train a neural network classifier for sentiment detector\n",
        "* We learned the necessary code/techniques to save models, and feed the training with data in just the right format\n",
        "* We observed the training across epochs\n",
        "* We saw how the classifier can be applied to various text classification problems\n",
        "* The IMDB sentiment classifier ended up at nearly 90% accuracy, the state of the art is about 95%, we got surprisingly far in few lines of code\n"
      ]
    },
    {
      "cell_type": "markdown",
      "metadata": {
        "id": "AjkMPuvnXwlT"
      },
      "source": [
        "# Save models in drive\n",
        "\n",
        "* The model is quite large, if you want to use it elsewhere, it makes sense to save it in Google Drive\n",
        "* Press \"Mount Drive\" under \"Files\" in top left corner and follow the instructions\n",
        "* Your drive will be mounted under /content/drive/MyDrive and you can then share the models across notebooks"
      ]
    },
    {
      "cell_type": "code",
      "metadata": {
        "id": "1Wdof6EKV1VZ",
        "outputId": "b906add4-9639-46e5-94dd-92fd64b0706c",
        "colab": {
          "base_uri": "https://localhost:8080/"
        }
      },
      "source": [
        "from google.colab import drive\n",
        "drive.mount('/content/drive')"
      ],
      "execution_count": 13,
      "outputs": [
        {
          "output_type": "stream",
          "text": [
            "Mounted at /content/drive\n"
          ],
          "name": "stdout"
        }
      ]
    },
    {
      "cell_type": "code",
      "metadata": {
        "id": "ZS7P2JgvWlhq"
      },
      "source": [
        "!mkdir -p /content/drive/MyDrive/intro-to-nlp/models-2021\n",
        "save_model(\"/content/drive/MyDrive/intro-to-nlp/models-2021/imdb_bow\",model,label_encoder,vectorizer)\n",
        "#and yet the weights!\n",
        "model.save(\"/content/drive/MyDrive/intro-to-nlp/models-2021/imdb_bow.weights.h5\")"
      ],
      "execution_count": 18,
      "outputs": []
    }
  ]
}